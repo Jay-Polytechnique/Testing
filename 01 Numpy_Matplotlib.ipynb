{
 "cells": [
  {
   "cell_type": "markdown",
   "id": "92dfde9e",
   "metadata": {},
   "source": [
    "Importing Numpy"
   ]
  },
  {
   "cell_type": "code",
   "execution_count": 2,
   "id": "fce0f3db",
   "metadata": {},
   "outputs": [],
   "source": [
    "import numpy as np"
   ]
  },
  {
   "cell_type": "markdown",
   "id": "0f09c259",
   "metadata": {},
   "source": [
    "Note: numpy arrays have more fluidity with functions and methods, but can only contain objects of the same type."
   ]
  },
  {
   "cell_type": "code",
   "execution_count": 8,
   "id": "1d7b75c9",
   "metadata": {},
   "outputs": [
    {
     "name": "stdout",
     "output_type": "stream",
     "text": [
      "[ 0  2  4  6  8 10 12 14 16 18]\n",
      "[5 6 7 8 9]\n"
     ]
    }
   ],
   "source": [
    "## Example of a regular Python list\n",
    "list = [x for x in range(0,10)]\n",
    "## Converting a regular list to a numpy list\n",
    "lp_list = np.array(list)\n",
    "\n",
    "## We can multiple np lists\n",
    "print(lp_list * 2)\n",
    "## Indexing works a bit like in R\n",
    "print(lp_list[lp_list > 4])"
   ]
  },
  {
   "cell_type": "markdown",
   "id": "d6042882",
   "metadata": {},
   "source": [
    "## Generating Test samples"
   ]
  },
  {
   "cell_type": "markdown",
   "id": "7729a2e2",
   "metadata": {},
   "source": [
    "Now, let us generate some samples of classical distributions. These functions output arrays of a specified size."
   ]
  },
  {
   "cell_type": "code",
   "execution_count": 40,
   "id": "42a0f1f5",
   "metadata": {},
   "outputs": [],
   "source": [
    "rng = np.random.default_rng()\n",
    "## normal distribution (mean, standard deviation, samples)\n",
    "normal_sample = rng.normal(0.5, 1, 5000)\n",
    "## binomial distribution (number of trials, probability of succes, samples)\n",
    "binom_sample = rng.binomial(50, 0.5, 10000)"
   ]
  },
  {
   "cell_type": "markdown",
   "id": "5d0caef1",
   "metadata": {},
   "source": [
    "## Basic calculations on a distribution"
   ]
  },
  {
   "cell_type": "code",
   "execution_count": 42,
   "id": "c0e9cded",
   "metadata": {},
   "outputs": [
    {
     "name": "stdout",
     "output_type": "stream",
     "text": [
      "0.5070633290269486\n",
      "0.5114215892600955\n"
     ]
    }
   ],
   "source": [
    "## Mean of the normal distribution sample\n",
    "print(np.mean(normal_sample))\n",
    "## Median of the normal distribution sample\n",
    "print(np.median(normal_sample))"
   ]
  },
  {
   "cell_type": "markdown",
   "id": "85275b88",
   "metadata": {},
   "source": [
    "## Plotting the distributions"
   ]
  },
  {
   "cell_type": "code",
   "execution_count": 18,
   "id": "b1f3329f",
   "metadata": {},
   "outputs": [],
   "source": [
    "import matplotlib.pyplot as plt"
   ]
  },
  {
   "cell_type": "code",
   "execution_count": 34,
   "id": "e577fcff",
   "metadata": {},
   "outputs": [
    {
     "data": {
      "image/png": "[encoded data removed]",
      "text/plain": [
       "<Figure size 432x288 with 1 Axes>"
      ]
     },
     "metadata": {
      "needs_background": "light"
     },
     "output_type": "display_data"
    }
   ],
   "source": [
    "## Histogram of the normal distribution\n",
    "plt.hist(normal_sample, bins = 20)\n",
    "## For labels and titles\n",
    "plt.xlabel(\"X values\")\n",
    "plt.ylabel(\"Number of Samples\")\n",
    "plt.title(\"Normal Distribution\")\n",
    "## Changing the units and names on the axis\n",
    "plt.xticks([x for x in range(-5,6)])\n",
    "plt.yticks([0, 200, 400, 600, 800],[0, 200, 400, 600, 800])\n",
    "## To add grid lines\n",
    "plt.grid(True)\n",
    "## To output the plot\n",
    "plt.show()"
   ]
  },
  {
   "cell_type": "code",
   "execution_count": 35,
   "id": "18086852",
   "metadata": {},
   "outputs": [
    {
     "data": {
      "image/png": "[encoded data removed]",
      "text/plain": [
       "<Figure size 432x288 with 1 Axes>"
      ]
     },
     "metadata": {
      "needs_background": "light"
     },
     "output_type": "display_data"
    }
   ],
   "source": [
    "## Histogram of the binomial distribution\n",
    "plt.hist(binom_sample, bins = 50)\n",
    "plt.xlabel(\"Number of successes\")\n",
    "plt.ylabel(\"Number of Samples\")\n",
    "plt.title(\"Binomial Distribution\")\n",
    "plt.grid(True)\n",
    "plt.show()"
   ]
  },
  {
   "cell_type": "code",
   "execution_count": null,
   "id": "689f9cda",
   "metadata": {},
   "outputs": [],
   "source": []
  }
 ],
 "metadata": {
  "kernelspec": {
   "display_name": "Python 3 (ipykernel)",
   "language": "python",
   "name": "python3"
  },
  "language_info": {
   "codemirror_mode": {
    "name": "ipython",
    "version": 3
   },
   "file_extension": ".py",
   "mimetype": "text/x-python",
   "name": "python",
   "nbconvert_exporter": "python",
   "pygments_lexer": "ipython3",
   "version": "3.9.7"
  }
 },
 "nbformat": 4,
 "nbformat_minor": 5
}
